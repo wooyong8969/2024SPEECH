{
 "cells": [
  {
   "cell_type": "code",
   "execution_count": 1,
   "metadata": {},
   "outputs": [],
   "source": [
    "import numpy as np\n",
    "\n",
    "BPF_EEG_data = np.load('_NPY/BPF_EEG_data.npy')\n",
    "CAR_EEG_data = np.load('_NPY/CAR_EEG_data.npy')\n",
    "CSP_Feature_data = np.load('_NPY/CSP_Feature_data.npy')\n",
    "CSP_Filter = np.load('_NPY/CSP_Filter.npy')\n",
    "int_labels = np.load('_NPY/int_labels.npy')\n",
    "ori_Epoch_data = np.load('_NPY/ori_Epoch_data.npy')\n",
    "ori_Labels = np.load('_NPY/ori_Labels.npy')"
   ]
  },
  {
   "cell_type": "code",
   "execution_count": 2,
   "metadata": {},
   "outputs": [],
   "source": [
    "import pywt\n",
    "import numpy as np\n",
    "\n",
    "def extract_wavelet_features(data, wavelet='db4'):\n",
    "    features = []\n",
    "    for signal in data:\n",
    "        coeffs = pywt.wavedec(signal, wavelet, level=5)\n",
    "        features.append([np.mean(np.abs(coeff)) for coeff in coeffs] + [np.std(coeff) for coeff in coeffs])\n",
    "    return np.array(features)\n",
    "\n",
    "# 웨이블릿 특징 추출\n",
    "wavelet_features = extract_wavelet_features(ori_Epoch_data)"
   ]
  },
  {
   "cell_type": "code",
   "execution_count": 3,
   "metadata": {},
   "outputs": [],
   "source": [
    "def extract_fft_features(data):\n",
    "    fft_features = []\n",
    "    for signal in data:\n",
    "        fft_coeffs = np.fft.rfft(signal, axis=1)\n",
    "        amplitude = np.abs(fft_coeffs)\n",
    "        phase = np.angle(fft_coeffs)\n",
    "        fft_features.append(np.concatenate([amplitude.flatten(), phase.flatten()]))\n",
    "    return np.array(fft_features)\n",
    "\n",
    "# FFT 특징 추출\n",
    "fft_features = extract_fft_features(ori_Epoch_data)"
   ]
  },
  {
   "cell_type": "code",
   "execution_count": 4,
   "metadata": {},
   "outputs": [],
   "source": [
    "from scipy.signal import welch\n",
    "\n",
    "def extract_psd_features(data):\n",
    "    psd_features = []\n",
    "    for signal in data:\n",
    "        freqs, power = welch(signal, fs=256, nperseg=256)\n",
    "        psd_features.append(power.flatten())\n",
    "    return np.array(psd_features)\n",
    "\n",
    "# PSD 특징 추출\n",
    "psd_features = extract_psd_features(ori_Epoch_data)"
   ]
  },
  {
   "cell_type": "code",
   "execution_count": 5,
   "metadata": {},
   "outputs": [],
   "source": [
    "# 특징들을 하나의 배열로 결합\n",
    "combined_features = np.concatenate([wavelet_features, fft_features, psd_features], axis=1)"
   ]
  },
  {
   "cell_type": "code",
   "execution_count": 6,
   "metadata": {},
   "outputs": [
    {
     "name": "stdout",
     "output_type": "stream",
     "text": [
      "Accuracy of the classifier on the test set: 0.0559\n"
     ]
    }
   ],
   "source": [
    "from sklearn.model_selection import train_test_split\n",
    "from sklearn.svm import SVC\n",
    "from sklearn.preprocessing import StandardScaler\n",
    "from sklearn.pipeline import Pipeline\n",
    "from sklearn.metrics import accuracy_score\n",
    "\n",
    "X_train, X_test, y_train, y_test = train_test_split(combined_features, int_labels, test_size=0.2, random_state=42)\n",
    "\n",
    "pipeline = Pipeline([\n",
    "    ('scaler', StandardScaler()),\n",
    "    ('classifier', SVC(kernel='linear', random_state=42))\n",
    "])\n",
    "\n",
    "pipeline.fit(X_train, y_train)\n",
    "\n",
    "y_pred = pipeline.predict(X_test)\n",
    "\n",
    "accuracy = accuracy_score(y_test, y_pred)\n",
    "print(f\"Accuracy of the classifier on the test set: {accuracy:.4f}\")"
   ]
  }
 ],
 "metadata": {
  "kernelspec": {
   "display_name": "VENV",
   "language": "python",
   "name": "python3"
  },
  "language_info": {
   "codemirror_mode": {
    "name": "ipython",
    "version": 3
   },
   "file_extension": ".py",
   "mimetype": "text/x-python",
   "name": "python",
   "nbconvert_exporter": "python",
   "pygments_lexer": "ipython3",
   "version": "3.8.5"
  }
 },
 "nbformat": 4,
 "nbformat_minor": 2
}
